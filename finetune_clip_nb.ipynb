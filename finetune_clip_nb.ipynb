{
 "cells": [
  {
   "cell_type": "code",
   "execution_count": null,
   "id": "2c884ca0",
   "metadata": {},
   "outputs": [],
   "source": [
    "%pip install torch torchvision pandas scikit-learn open_clip_torch[training]"
   ]
  },
  {
   "cell_type": "code",
   "execution_count": null,
   "id": "2b6232a4",
   "metadata": {},
   "outputs": [],
   "source": [
    "import pandas as pd\n",
    "from sklearn.model_selection import train_test_split\n",
    "import os\n",
    "\n",
    "# Paths\n",
    "INDEX_CSV = 'index.csv'      # existing manual captions\n",
    "TRAIN_ORIGINAL_CSV = 'train_original.csv'\n",
    "AUGMENTED_TRAIN = \"train.csv\"\n",
    "VAL_CSV = 'val.csv'\n"
   ]
  },
  {
   "cell_type": "code",
   "execution_count": null,
   "id": "22e0d10d",
   "metadata": {},
   "outputs": [],
   "source": [
    "df = pd.read_csv(INDEX_CSV)\n",
    "print(f\"Total samples: {len(df)}\")\n",
    "df.head()\n",
    "train_df, val_df = train_test_split(df, test_size=0.2, random_state=42)\n",
    "print(f\"Train samples: {len(train_df)} | Validation samples: {len(val_df)}\")\n"
   ]
  },
  {
   "cell_type": "code",
   "execution_count": null,
   "id": "96fe99ff",
   "metadata": {},
   "outputs": [],
   "source": [
    "train_df.to_csv(TRAIN_ORIGINAL_CSV, index=False)\n",
    "val_df.to_csv(VAL_CSV, index=False)\n",
    "print(f\"Saved {TRAIN_ORIGINAL_CSV} and {VAL_CSV}\")\n",
    "df_train = pd.read_csv(TRAIN_ORIGINAL_CSV)\n",
    "df_val = pd.read_csv(VAL_CSV)\n",
    "\n",
    "print(\"Columns in  index.csv: \",df.columns.tolist())\n",
    "print(\"Columns in train_original.csv:\", df_train.columns.tolist())\n",
    "print(\"Columns in val.csv:\", df_val.columns.tolist())"
   ]
  },
  {
   "cell_type": "code",
   "execution_count": null,
   "id": "a7c0505d",
   "metadata": {},
   "outputs": [],
   "source": [
    "print(\"installing local llm (llama-cpp-python) dependencies..\")\n",
    "%pip install llama-cpp-python huggingface_hub --quiet\n",
    "print(\"Dependencies done\")"
   ]
  },
  {
   "cell_type": "code",
   "execution_count": null,
   "id": "d54c99b2",
   "metadata": {},
   "outputs": [],
   "source": [
    "import torch.cuda\n",
    "import os\n",
    "use_gpu = \"cuda\" if torch.cuda.is_available else \"cpu\"\n",
    "print(use_gpu)\n",
    "CUDA_PATH = os.environ.get(\"CUDA_PATH\")\n",
    "print(CUDA_PATH)"
   ]
  },
  {
   "cell_type": "code",
   "execution_count": null,
   "id": "10fca57b",
   "metadata": {},
   "outputs": [],
   "source": [
    "#manual augment (type synonyms for captions)\n",
    "#print(\"\\n--- Running Manual Synonym Augmentation ---\")\n",
    "# !python text_augment.py --augmentation_method manual --num_aug_per_original 5\n",
    "\n",
    "#llm augmentation\n",
    "print(\"\\n--- Running LLM-based Augmentation ---\")\n",
    "!python text_augment.py --augmentation_method llm --num_aug_per_original 3\n",
    "\n",
    "train_augmented_df = pd.read_csv(AUGMENTED_TRAIN)\n",
    "print(f\"Final train.csv has {len(train_augmented_df)} entries.\")\n",
    "print(train_augmented_df.head())"
   ]
  },
  {
   "cell_type": "code",
   "execution_count": null,
   "id": "31b22c5e",
   "metadata": {},
   "outputs": [],
   "source": [
    "!python -m open_clip_train.main \\\n",
    "    --train-data train.csv \\\n",
    "    --val-data val.csv \\\n",
    "    --csv-img-key filepath \\\n",
    "    --csv-caption-key caption \\\n",
    "    --csv-separator \",\" \n",
    "    --model ViT-B-32 \\\n",
    "    --device use_gpu \\\n",
    "    --pretrained openai \\\n",
    "    --batch-size 32 \\\n",
    "    --lr 1e-4 \\\n",
    "    --epochs 10 \\\n",
    "    --warmup 500 \\\n",
    "    --workers 4\\\n",
    "    --aug-cfg \"use_timm=True auto_augment='rand-m9-n2-mstd0.5' re_prob=0.25 re_count=1\" "
   ]
  }
 ],
 "metadata": {
  "kernelspec": {
   "display_name": "clip-browser",
   "language": "python",
   "name": "python3"
  },
  "language_info": {
   "codemirror_mode": {
    "name": "ipython",
    "version": 3
   },
   "file_extension": ".py",
   "mimetype": "text/x-python",
   "name": "python",
   "nbconvert_exporter": "python",
   "pygments_lexer": "ipython3",
   "version": "3.11.13"
  }
 },
 "nbformat": 4,
 "nbformat_minor": 5
}
