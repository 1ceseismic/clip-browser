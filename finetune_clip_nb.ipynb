{
 "cells": [
  {
   "cell_type": "code",
   "execution_count": 1,
   "id": "2c884ca0",
   "metadata": {},
   "outputs": [
    {
     "name": "stdout",
     "output_type": "stream",
     "text": [
      "Requirement already satisfied: torch in c:\\users\\coolb\\anaconda3\\envs\\clip-browser\\lib\\site-packages (2.7.1+cu126)\n",
      "Requirement already satisfied: torchvision in c:\\users\\coolb\\anaconda3\\envs\\clip-browser\\lib\\site-packages (0.22.1+cu126)\n",
      "Requirement already satisfied: pandas in c:\\users\\coolb\\anaconda3\\envs\\clip-browser\\lib\\site-packages (2.3.1)\n",
      "Requirement already satisfied: scikit-learn in c:\\users\\coolb\\anaconda3\\envs\\clip-browser\\lib\\site-packages (1.7.1)\n",
      "Requirement already satisfied: open_clip_torch[training] in c:\\users\\coolb\\anaconda3\\envs\\clip-browser\\lib\\site-packages (3.0.0)\n",
      "Requirement already satisfied: filelock in c:\\users\\coolb\\anaconda3\\envs\\clip-browser\\lib\\site-packages (from torch) (3.18.0)\n",
      "Requirement already satisfied: typing-extensions>=4.10.0 in c:\\users\\coolb\\anaconda3\\envs\\clip-browser\\lib\\site-packages (from torch) (4.14.1)\n",
      "Requirement already satisfied: sympy>=1.13.3 in c:\\users\\coolb\\anaconda3\\envs\\clip-browser\\lib\\site-packages (from torch) (1.14.0)\n",
      "Requirement already satisfied: networkx in c:\\users\\coolb\\anaconda3\\envs\\clip-browser\\lib\\site-packages (from torch) (3.5)\n",
      "Requirement already satisfied: jinja2 in c:\\users\\coolb\\anaconda3\\envs\\clip-browser\\lib\\site-packages (from torch) (3.1.6)\n",
      "Requirement already satisfied: fsspec in c:\\users\\coolb\\anaconda3\\envs\\clip-browser\\lib\\site-packages (from torch) (2025.7.0)\n",
      "Requirement already satisfied: numpy in c:\\users\\coolb\\anaconda3\\envs\\clip-browser\\lib\\site-packages (from torchvision) (2.2.6)\n",
      "Requirement already satisfied: pillow!=8.3.*,>=5.3.0 in c:\\users\\coolb\\anaconda3\\envs\\clip-browser\\lib\\site-packages (from torchvision) (11.3.0)\n",
      "Requirement already satisfied: python-dateutil>=2.8.2 in c:\\users\\coolb\\anaconda3\\envs\\clip-browser\\lib\\site-packages (from pandas) (2.9.0.post0)\n",
      "Requirement already satisfied: pytz>=2020.1 in c:\\users\\coolb\\anaconda3\\envs\\clip-browser\\lib\\site-packages (from pandas) (2025.2)\n",
      "Requirement already satisfied: tzdata>=2022.7 in c:\\users\\coolb\\anaconda3\\envs\\clip-browser\\lib\\site-packages (from pandas) (2025.2)\n",
      "Requirement already satisfied: scipy>=1.8.0 in c:\\users\\coolb\\anaconda3\\envs\\clip-browser\\lib\\site-packages (from scikit-learn) (1.16.1)\n",
      "Requirement already satisfied: joblib>=1.2.0 in c:\\users\\coolb\\anaconda3\\envs\\clip-browser\\lib\\site-packages (from scikit-learn) (1.5.1)\n",
      "Requirement already satisfied: threadpoolctl>=3.1.0 in c:\\users\\coolb\\anaconda3\\envs\\clip-browser\\lib\\site-packages (from scikit-learn) (3.6.0)\n",
      "Requirement already satisfied: regex in c:\\users\\coolb\\anaconda3\\envs\\clip-browser\\lib\\site-packages (from open_clip_torch[training]) (2024.11.6)\n",
      "Requirement already satisfied: ftfy in c:\\users\\coolb\\anaconda3\\envs\\clip-browser\\lib\\site-packages (from open_clip_torch[training]) (6.3.1)\n",
      "Requirement already satisfied: tqdm in c:\\users\\coolb\\anaconda3\\envs\\clip-browser\\lib\\site-packages (from open_clip_torch[training]) (4.67.1)\n",
      "Requirement already satisfied: huggingface-hub in c:\\users\\coolb\\anaconda3\\envs\\clip-browser\\lib\\site-packages (from open_clip_torch[training]) (0.33.5)\n",
      "Requirement already satisfied: safetensors in c:\\users\\coolb\\anaconda3\\envs\\clip-browser\\lib\\site-packages (from open_clip_torch[training]) (0.5.3)\n",
      "Requirement already satisfied: timm>=1.0.17 in c:\\users\\coolb\\anaconda3\\envs\\clip-browser\\lib\\site-packages (from open_clip_torch[training]) (1.0.19)\n",
      "Requirement already satisfied: webdataset<=0.2.86,>=0.2.5 in c:\\users\\coolb\\anaconda3\\envs\\clip-browser\\lib\\site-packages (from open_clip_torch[training]) (0.2.86)\n",
      "Requirement already satisfied: transformers[sentencepiece] in c:\\users\\coolb\\anaconda3\\envs\\clip-browser\\lib\\site-packages (from open_clip_torch[training]) (4.53.3)\n",
      "Requirement already satisfied: braceexpand in c:\\users\\coolb\\anaconda3\\envs\\clip-browser\\lib\\site-packages (from webdataset<=0.2.86,>=0.2.5->open_clip_torch[training]) (0.1.7)\n",
      "Requirement already satisfied: pyyaml in c:\\users\\coolb\\anaconda3\\envs\\clip-browser\\lib\\site-packages (from webdataset<=0.2.86,>=0.2.5->open_clip_torch[training]) (6.0.2)\n",
      "Requirement already satisfied: six>=1.5 in c:\\users\\coolb\\anaconda3\\envs\\clip-browser\\lib\\site-packages (from python-dateutil>=2.8.2->pandas) (1.17.0)\n",
      "Requirement already satisfied: mpmath<1.4,>=1.1.0 in c:\\users\\coolb\\anaconda3\\envs\\clip-browser\\lib\\site-packages (from sympy>=1.13.3->torch) (1.3.0)\n",
      "Requirement already satisfied: wcwidth in c:\\users\\coolb\\anaconda3\\envs\\clip-browser\\lib\\site-packages (from ftfy->open_clip_torch[training]) (0.2.13)\n",
      "Requirement already satisfied: packaging>=20.9 in c:\\users\\coolb\\anaconda3\\envs\\clip-browser\\lib\\site-packages (from huggingface-hub->open_clip_torch[training]) (25.0)\n",
      "Requirement already satisfied: requests in c:\\users\\coolb\\anaconda3\\envs\\clip-browser\\lib\\site-packages (from huggingface-hub->open_clip_torch[training]) (2.32.4)\n",
      "Requirement already satisfied: colorama in c:\\users\\coolb\\anaconda3\\envs\\clip-browser\\lib\\site-packages (from tqdm->open_clip_torch[training]) (0.4.6)\n",
      "Requirement already satisfied: MarkupSafe>=2.0 in c:\\users\\coolb\\anaconda3\\envs\\clip-browser\\lib\\site-packages (from jinja2->torch) (3.0.2)\n",
      "Requirement already satisfied: charset_normalizer<4,>=2 in c:\\users\\coolb\\anaconda3\\envs\\clip-browser\\lib\\site-packages (from requests->huggingface-hub->open_clip_torch[training]) (3.3.2)\n",
      "Requirement already satisfied: idna<4,>=2.5 in c:\\users\\coolb\\anaconda3\\envs\\clip-browser\\lib\\site-packages (from requests->huggingface-hub->open_clip_torch[training]) (3.7)\n",
      "Requirement already satisfied: urllib3<3,>=1.21.1 in c:\\users\\coolb\\anaconda3\\envs\\clip-browser\\lib\\site-packages (from requests->huggingface-hub->open_clip_torch[training]) (2.5.0)\n",
      "Requirement already satisfied: certifi>=2017.4.17 in c:\\users\\coolb\\anaconda3\\envs\\clip-browser\\lib\\site-packages (from requests->huggingface-hub->open_clip_torch[training]) (2025.7.14)\n",
      "Requirement already satisfied: tokenizers<0.22,>=0.21 in c:\\users\\coolb\\anaconda3\\envs\\clip-browser\\lib\\site-packages (from transformers[sentencepiece]; extra == \"training\"->open_clip_torch[training]) (0.21.2)\n",
      "Requirement already satisfied: sentencepiece!=0.1.92,>=0.1.91 in c:\\users\\coolb\\anaconda3\\envs\\clip-browser\\lib\\site-packages (from transformers[sentencepiece]; extra == \"training\"->open_clip_torch[training]) (0.2.0)\n",
      "Requirement already satisfied: protobuf in c:\\users\\coolb\\anaconda3\\envs\\clip-browser\\lib\\site-packages (from transformers[sentencepiece]; extra == \"training\"->open_clip_torch[training]) (6.31.1)\n",
      "Note: you may need to restart the kernel to use updated packages.\n"
     ]
    },
    {
     "name": "stderr",
     "output_type": "stream",
     "text": [
      "WARNING: Ignoring invalid distribution ~umpy (c:\\Users\\coolb\\anaconda3\\envs\\clip-browser\\Lib\\site-packages)\n",
      "WARNING: Ignoring invalid distribution ~umpy (c:\\Users\\coolb\\anaconda3\\envs\\clip-browser\\Lib\\site-packages)\n",
      "WARNING: Ignoring invalid distribution ~umpy (c:\\Users\\coolb\\anaconda3\\envs\\clip-browser\\Lib\\site-packages)\n"
     ]
    }
   ],
   "source": [
    "%pip install torch torchvision pandas scikit-learn open_clip_torch[training]"
   ]
  },
  {
   "cell_type": "code",
   "execution_count": 2,
   "id": "2b6232a4",
   "metadata": {},
   "outputs": [],
   "source": [
    "import pandas as pd\n",
    "from sklearn.model_selection import train_test_split\n",
    "import os\n",
    "import subprocess\n",
    "import torch\n",
    "INDEX_CSV = 'index.csv'     # existing manual captions\n",
    "TRAIN_ORIGINAL_CSV = 'train_original.csv'\n",
    "AUGMENTED_TRAIN = \"train.csv\"\n",
    "VAL_CSV = 'val.csv'\n"
   ]
  },
  {
   "cell_type": "code",
   "execution_count": 3,
   "id": "22e0d10d",
   "metadata": {},
   "outputs": [
    {
     "ename": "FileNotFoundError",
     "evalue": "[Errno 2] No such file or directory: 'index.csv'",
     "output_type": "error",
     "traceback": [
      "\u001b[31m---------------------------------------------------------------------------\u001b[39m",
      "\u001b[31mFileNotFoundError\u001b[39m                         Traceback (most recent call last)",
      "\u001b[36mCell\u001b[39m\u001b[36m \u001b[39m\u001b[32mIn[3]\u001b[39m\u001b[32m, line 1\u001b[39m\n\u001b[32m----> \u001b[39m\u001b[32m1\u001b[39m df = \u001b[43mpd\u001b[49m\u001b[43m.\u001b[49m\u001b[43mread_csv\u001b[49m\u001b[43m(\u001b[49m\u001b[43mINDEX_CSV\u001b[49m\u001b[43m)\u001b[49m\n\u001b[32m      2\u001b[39m \u001b[38;5;28mprint\u001b[39m(\u001b[33mf\u001b[39m\u001b[33m\"\u001b[39m\u001b[33mTotal samples: \u001b[39m\u001b[38;5;132;01m{\u001b[39;00m\u001b[38;5;28mlen\u001b[39m(df)\u001b[38;5;132;01m}\u001b[39;00m\u001b[33m\"\u001b[39m)\n\u001b[32m      3\u001b[39m df.head()\n",
      "\u001b[36mFile \u001b[39m\u001b[32mc:\\Users\\coolb\\anaconda3\\envs\\clip-browser\\Lib\\site-packages\\pandas\\io\\parsers\\readers.py:1026\u001b[39m, in \u001b[36mread_csv\u001b[39m\u001b[34m(filepath_or_buffer, sep, delimiter, header, names, index_col, usecols, dtype, engine, converters, true_values, false_values, skipinitialspace, skiprows, skipfooter, nrows, na_values, keep_default_na, na_filter, verbose, skip_blank_lines, parse_dates, infer_datetime_format, keep_date_col, date_parser, date_format, dayfirst, cache_dates, iterator, chunksize, compression, thousands, decimal, lineterminator, quotechar, quoting, doublequote, escapechar, comment, encoding, encoding_errors, dialect, on_bad_lines, delim_whitespace, low_memory, memory_map, float_precision, storage_options, dtype_backend)\u001b[39m\n\u001b[32m   1013\u001b[39m kwds_defaults = _refine_defaults_read(\n\u001b[32m   1014\u001b[39m     dialect,\n\u001b[32m   1015\u001b[39m     delimiter,\n\u001b[32m   (...)\u001b[39m\u001b[32m   1022\u001b[39m     dtype_backend=dtype_backend,\n\u001b[32m   1023\u001b[39m )\n\u001b[32m   1024\u001b[39m kwds.update(kwds_defaults)\n\u001b[32m-> \u001b[39m\u001b[32m1026\u001b[39m \u001b[38;5;28;01mreturn\u001b[39;00m \u001b[43m_read\u001b[49m\u001b[43m(\u001b[49m\u001b[43mfilepath_or_buffer\u001b[49m\u001b[43m,\u001b[49m\u001b[43m \u001b[49m\u001b[43mkwds\u001b[49m\u001b[43m)\u001b[49m\n",
      "\u001b[36mFile \u001b[39m\u001b[32mc:\\Users\\coolb\\anaconda3\\envs\\clip-browser\\Lib\\site-packages\\pandas\\io\\parsers\\readers.py:620\u001b[39m, in \u001b[36m_read\u001b[39m\u001b[34m(filepath_or_buffer, kwds)\u001b[39m\n\u001b[32m    617\u001b[39m _validate_names(kwds.get(\u001b[33m\"\u001b[39m\u001b[33mnames\u001b[39m\u001b[33m\"\u001b[39m, \u001b[38;5;28;01mNone\u001b[39;00m))\n\u001b[32m    619\u001b[39m \u001b[38;5;66;03m# Create the parser.\u001b[39;00m\n\u001b[32m--> \u001b[39m\u001b[32m620\u001b[39m parser = \u001b[43mTextFileReader\u001b[49m\u001b[43m(\u001b[49m\u001b[43mfilepath_or_buffer\u001b[49m\u001b[43m,\u001b[49m\u001b[43m \u001b[49m\u001b[43m*\u001b[49m\u001b[43m*\u001b[49m\u001b[43mkwds\u001b[49m\u001b[43m)\u001b[49m\n\u001b[32m    622\u001b[39m \u001b[38;5;28;01mif\u001b[39;00m chunksize \u001b[38;5;129;01mor\u001b[39;00m iterator:\n\u001b[32m    623\u001b[39m     \u001b[38;5;28;01mreturn\u001b[39;00m parser\n",
      "\u001b[36mFile \u001b[39m\u001b[32mc:\\Users\\coolb\\anaconda3\\envs\\clip-browser\\Lib\\site-packages\\pandas\\io\\parsers\\readers.py:1620\u001b[39m, in \u001b[36mTextFileReader.__init__\u001b[39m\u001b[34m(self, f, engine, **kwds)\u001b[39m\n\u001b[32m   1617\u001b[39m     \u001b[38;5;28mself\u001b[39m.options[\u001b[33m\"\u001b[39m\u001b[33mhas_index_names\u001b[39m\u001b[33m\"\u001b[39m] = kwds[\u001b[33m\"\u001b[39m\u001b[33mhas_index_names\u001b[39m\u001b[33m\"\u001b[39m]\n\u001b[32m   1619\u001b[39m \u001b[38;5;28mself\u001b[39m.handles: IOHandles | \u001b[38;5;28;01mNone\u001b[39;00m = \u001b[38;5;28;01mNone\u001b[39;00m\n\u001b[32m-> \u001b[39m\u001b[32m1620\u001b[39m \u001b[38;5;28mself\u001b[39m._engine = \u001b[38;5;28;43mself\u001b[39;49m\u001b[43m.\u001b[49m\u001b[43m_make_engine\u001b[49m\u001b[43m(\u001b[49m\u001b[43mf\u001b[49m\u001b[43m,\u001b[49m\u001b[43m \u001b[49m\u001b[38;5;28;43mself\u001b[39;49m\u001b[43m.\u001b[49m\u001b[43mengine\u001b[49m\u001b[43m)\u001b[49m\n",
      "\u001b[36mFile \u001b[39m\u001b[32mc:\\Users\\coolb\\anaconda3\\envs\\clip-browser\\Lib\\site-packages\\pandas\\io\\parsers\\readers.py:1880\u001b[39m, in \u001b[36mTextFileReader._make_engine\u001b[39m\u001b[34m(self, f, engine)\u001b[39m\n\u001b[32m   1878\u001b[39m     \u001b[38;5;28;01mif\u001b[39;00m \u001b[33m\"\u001b[39m\u001b[33mb\u001b[39m\u001b[33m\"\u001b[39m \u001b[38;5;129;01mnot\u001b[39;00m \u001b[38;5;129;01min\u001b[39;00m mode:\n\u001b[32m   1879\u001b[39m         mode += \u001b[33m\"\u001b[39m\u001b[33mb\u001b[39m\u001b[33m\"\u001b[39m\n\u001b[32m-> \u001b[39m\u001b[32m1880\u001b[39m \u001b[38;5;28mself\u001b[39m.handles = \u001b[43mget_handle\u001b[49m\u001b[43m(\u001b[49m\n\u001b[32m   1881\u001b[39m \u001b[43m    \u001b[49m\u001b[43mf\u001b[49m\u001b[43m,\u001b[49m\n\u001b[32m   1882\u001b[39m \u001b[43m    \u001b[49m\u001b[43mmode\u001b[49m\u001b[43m,\u001b[49m\n\u001b[32m   1883\u001b[39m \u001b[43m    \u001b[49m\u001b[43mencoding\u001b[49m\u001b[43m=\u001b[49m\u001b[38;5;28;43mself\u001b[39;49m\u001b[43m.\u001b[49m\u001b[43moptions\u001b[49m\u001b[43m.\u001b[49m\u001b[43mget\u001b[49m\u001b[43m(\u001b[49m\u001b[33;43m\"\u001b[39;49m\u001b[33;43mencoding\u001b[39;49m\u001b[33;43m\"\u001b[39;49m\u001b[43m,\u001b[49m\u001b[43m \u001b[49m\u001b[38;5;28;43;01mNone\u001b[39;49;00m\u001b[43m)\u001b[49m\u001b[43m,\u001b[49m\n\u001b[32m   1884\u001b[39m \u001b[43m    \u001b[49m\u001b[43mcompression\u001b[49m\u001b[43m=\u001b[49m\u001b[38;5;28;43mself\u001b[39;49m\u001b[43m.\u001b[49m\u001b[43moptions\u001b[49m\u001b[43m.\u001b[49m\u001b[43mget\u001b[49m\u001b[43m(\u001b[49m\u001b[33;43m\"\u001b[39;49m\u001b[33;43mcompression\u001b[39;49m\u001b[33;43m\"\u001b[39;49m\u001b[43m,\u001b[49m\u001b[43m \u001b[49m\u001b[38;5;28;43;01mNone\u001b[39;49;00m\u001b[43m)\u001b[49m\u001b[43m,\u001b[49m\n\u001b[32m   1885\u001b[39m \u001b[43m    \u001b[49m\u001b[43mmemory_map\u001b[49m\u001b[43m=\u001b[49m\u001b[38;5;28;43mself\u001b[39;49m\u001b[43m.\u001b[49m\u001b[43moptions\u001b[49m\u001b[43m.\u001b[49m\u001b[43mget\u001b[49m\u001b[43m(\u001b[49m\u001b[33;43m\"\u001b[39;49m\u001b[33;43mmemory_map\u001b[39;49m\u001b[33;43m\"\u001b[39;49m\u001b[43m,\u001b[49m\u001b[43m \u001b[49m\u001b[38;5;28;43;01mFalse\u001b[39;49;00m\u001b[43m)\u001b[49m\u001b[43m,\u001b[49m\n\u001b[32m   1886\u001b[39m \u001b[43m    \u001b[49m\u001b[43mis_text\u001b[49m\u001b[43m=\u001b[49m\u001b[43mis_text\u001b[49m\u001b[43m,\u001b[49m\n\u001b[32m   1887\u001b[39m \u001b[43m    \u001b[49m\u001b[43merrors\u001b[49m\u001b[43m=\u001b[49m\u001b[38;5;28;43mself\u001b[39;49m\u001b[43m.\u001b[49m\u001b[43moptions\u001b[49m\u001b[43m.\u001b[49m\u001b[43mget\u001b[49m\u001b[43m(\u001b[49m\u001b[33;43m\"\u001b[39;49m\u001b[33;43mencoding_errors\u001b[39;49m\u001b[33;43m\"\u001b[39;49m\u001b[43m,\u001b[49m\u001b[43m \u001b[49m\u001b[33;43m\"\u001b[39;49m\u001b[33;43mstrict\u001b[39;49m\u001b[33;43m\"\u001b[39;49m\u001b[43m)\u001b[49m\u001b[43m,\u001b[49m\n\u001b[32m   1888\u001b[39m \u001b[43m    \u001b[49m\u001b[43mstorage_options\u001b[49m\u001b[43m=\u001b[49m\u001b[38;5;28;43mself\u001b[39;49m\u001b[43m.\u001b[49m\u001b[43moptions\u001b[49m\u001b[43m.\u001b[49m\u001b[43mget\u001b[49m\u001b[43m(\u001b[49m\u001b[33;43m\"\u001b[39;49m\u001b[33;43mstorage_options\u001b[39;49m\u001b[33;43m\"\u001b[39;49m\u001b[43m,\u001b[49m\u001b[43m \u001b[49m\u001b[38;5;28;43;01mNone\u001b[39;49;00m\u001b[43m)\u001b[49m\u001b[43m,\u001b[49m\n\u001b[32m   1889\u001b[39m \u001b[43m\u001b[49m\u001b[43m)\u001b[49m\n\u001b[32m   1890\u001b[39m \u001b[38;5;28;01massert\u001b[39;00m \u001b[38;5;28mself\u001b[39m.handles \u001b[38;5;129;01mis\u001b[39;00m \u001b[38;5;129;01mnot\u001b[39;00m \u001b[38;5;28;01mNone\u001b[39;00m\n\u001b[32m   1891\u001b[39m f = \u001b[38;5;28mself\u001b[39m.handles.handle\n",
      "\u001b[36mFile \u001b[39m\u001b[32mc:\\Users\\coolb\\anaconda3\\envs\\clip-browser\\Lib\\site-packages\\pandas\\io\\common.py:873\u001b[39m, in \u001b[36mget_handle\u001b[39m\u001b[34m(path_or_buf, mode, encoding, compression, memory_map, is_text, errors, storage_options)\u001b[39m\n\u001b[32m    868\u001b[39m \u001b[38;5;28;01melif\u001b[39;00m \u001b[38;5;28misinstance\u001b[39m(handle, \u001b[38;5;28mstr\u001b[39m):\n\u001b[32m    869\u001b[39m     \u001b[38;5;66;03m# Check whether the filename is to be opened in binary mode.\u001b[39;00m\n\u001b[32m    870\u001b[39m     \u001b[38;5;66;03m# Binary mode does not support 'encoding' and 'newline'.\u001b[39;00m\n\u001b[32m    871\u001b[39m     \u001b[38;5;28;01mif\u001b[39;00m ioargs.encoding \u001b[38;5;129;01mand\u001b[39;00m \u001b[33m\"\u001b[39m\u001b[33mb\u001b[39m\u001b[33m\"\u001b[39m \u001b[38;5;129;01mnot\u001b[39;00m \u001b[38;5;129;01min\u001b[39;00m ioargs.mode:\n\u001b[32m    872\u001b[39m         \u001b[38;5;66;03m# Encoding\u001b[39;00m\n\u001b[32m--> \u001b[39m\u001b[32m873\u001b[39m         handle = \u001b[38;5;28;43mopen\u001b[39;49m\u001b[43m(\u001b[49m\n\u001b[32m    874\u001b[39m \u001b[43m            \u001b[49m\u001b[43mhandle\u001b[49m\u001b[43m,\u001b[49m\n\u001b[32m    875\u001b[39m \u001b[43m            \u001b[49m\u001b[43mioargs\u001b[49m\u001b[43m.\u001b[49m\u001b[43mmode\u001b[49m\u001b[43m,\u001b[49m\n\u001b[32m    876\u001b[39m \u001b[43m            \u001b[49m\u001b[43mencoding\u001b[49m\u001b[43m=\u001b[49m\u001b[43mioargs\u001b[49m\u001b[43m.\u001b[49m\u001b[43mencoding\u001b[49m\u001b[43m,\u001b[49m\n\u001b[32m    877\u001b[39m \u001b[43m            \u001b[49m\u001b[43merrors\u001b[49m\u001b[43m=\u001b[49m\u001b[43merrors\u001b[49m\u001b[43m,\u001b[49m\n\u001b[32m    878\u001b[39m \u001b[43m            \u001b[49m\u001b[43mnewline\u001b[49m\u001b[43m=\u001b[49m\u001b[33;43m\"\u001b[39;49m\u001b[33;43m\"\u001b[39;49m\u001b[43m,\u001b[49m\n\u001b[32m    879\u001b[39m \u001b[43m        \u001b[49m\u001b[43m)\u001b[49m\n\u001b[32m    880\u001b[39m     \u001b[38;5;28;01melse\u001b[39;00m:\n\u001b[32m    881\u001b[39m         \u001b[38;5;66;03m# Binary mode\u001b[39;00m\n\u001b[32m    882\u001b[39m         handle = \u001b[38;5;28mopen\u001b[39m(handle, ioargs.mode)\n",
      "\u001b[31mFileNotFoundError\u001b[39m: [Errno 2] No such file or directory: 'index.csv'"
     ]
    }
   ],
   "source": [
    "df = pd.read_csv(INDEX_CSV)\n",
    "print(f\"Total samples: {len(df)}\")\n",
    "df.head()\n",
    "train_df, val_df = train_test_split(df, test_size=0.2, random_state=42)\n",
    "print(f\"Train samples: {len(train_df)} | Validation samples: {len(val_df)}\")\n"
   ]
  },
  {
   "cell_type": "code",
   "execution_count": null,
   "id": "96fe99ff",
   "metadata": {},
   "outputs": [],
   "source": [
    "train_df.to_csv(TRAIN_ORIGINAL_CSV, index=False)\n",
    "val_df.to_csv(VAL_CSV, index=False)\n",
    "print(f\"Saved {TRAIN_ORIGINAL_CSV} and {VAL_CSV}\")\n",
    "df_train = pd.read_csv(TRAIN_ORIGINAL_CSV)\n",
    "df_val = pd.read_csv(VAL_CSV)\n",
    "\n",
    "print(\"Columns in  index.csv: \",df.columns.tolist())\n",
    "print(\"Columns in train_original.csv:\", df_train.columns.tolist())\n",
    "print(\"Columns in val.csv:\", df_val.columns.tolist())"
   ]
  },
  {
   "cell_type": "code",
   "execution_count": null,
   "id": "a7c0505d",
   "metadata": {},
   "outputs": [],
   "source": [
    "print(\"installing local llm (llama-cpp-python) dependencies..\")\n",
    "%pip install llama-cpp-python huggingface_hub --quiet\n",
    "print(\"Dependencies done\")"
   ]
  },
  {
   "cell_type": "code",
   "execution_count": 6,
   "id": "d54c99b2",
   "metadata": {},
   "outputs": [
    {
     "name": "stdout",
     "output_type": "stream",
     "text": [
      "cuda\n",
      "C:\\Program Files\\NVIDIA GPU Computing Toolkit\\CUDA\\v12.6\n"
     ]
    }
   ],
   "source": [
    "device = \"cuda\" if torch.cuda.is_available else \"cpu\"\n",
    "print(device)\n",
    "CUDA_PATH = os.environ.get(\"CUDA_PATH\")\n",
    "print(CUDA_PATH)"
   ]
  },
  {
   "cell_type": "code",
   "execution_count": 4,
   "id": "10fca57b",
   "metadata": {},
   "outputs": [
    {
     "name": "stdout",
     "output_type": "stream",
     "text": [
      "\n",
      "--- Running LLM-based Augmentation ---\n",
      "^C\n",
      "Final train.csv has 36 entries.\n",
      "               filepath                                     caption\n",
      "0  dataset/IMG_0825.JPG  Person positioned beneath a bright source.\n",
      "1  dataset/IMG_0718.JPG                   Revisiting the same scene\n",
      "2  dataset/church_2.JPG                 Additional place of worship\n",
      "3  dataset/IMG_0794.JPG                            me starting down\n",
      "4   dataset/the_sky.JPG                         University skyline.\n"
     ]
    },
    {
     "name": "stderr",
     "output_type": "stream",
     "text": [
      "llama_kv_cache_unified: LLAMA_SET_ROWS=0, using old ggml_cpy() method for backwards compatibility\n"
     ]
    },
    {
     "name": "stdout",
     "output_type": "stream",
     "text": [
      "LLM model 'Phi-3-mini-4k-instruct-q4.gguf' already exists at local_llm_models\\Phi-3-mini-4k-instruct-q4.gguf.\n",
      "Local LLM 'Phi-3-mini-4k-instruct-q4.gguf' loaded successfully.\n",
      "Starting text augmentation using 'llm' method...\n",
      "Generated 2 paraphrases for: 'church x3'\n",
      "Generated 2 paraphrases for: 'street at night'\n",
      "Generated 2 paraphrases for: 'standing under lamp'\n",
      "Generated 2 paraphrases for: 'church blurry'\n",
      "Generated 2 paraphrases for: 'me again'\n",
      "Generated 2 paraphrases for: 'sky at university'\n",
      "Generated 2 paraphrases for: 'joel sitting on a rock at night'\n",
      "Generated 2 paraphrases for: 'boat during night'\n",
      "Generated 2 paraphrases for: 'andother church'\n",
      "Generated 2 paraphrases for: 'henry'\n",
      "Generated 2 paraphrases for: 'me starting down'\n",
      "Generated 2 paraphrases for: 'standing under lamp'\n",
      "Text augmentation complete. Saved augmented train data to train.csv with 36 entries.\n"
     ]
    }
   ],
   "source": [
    "#manual augment (type synonyms for captions)\n",
    "#print(\"\\n--- Running Manual Synonym Augmentation ---\")\n",
    "# !python text_augment.py --augmentation_method manual --num_aug_per_original 5\n",
    "\n",
    "#llm augmentation\n",
    "print(\"\\n--- Running LLM-based Augmentation ---\")\n",
    "!python text_augment.py --augmentation_method llm --num_aug_per_original 3\n",
    "\n",
    "train_augmented_df = pd.read_csv(AUGMENTED_TRAIN)\n",
    "print(f\"Final train.csv has {len(train_augmented_df)} entries.\")\n",
    "print(train_augmented_df.head())"
   ]
  },
  {
   "cell_type": "code",
   "execution_count": null,
   "id": "31b22c5e",
   "metadata": {},
   "outputs": [
    {
     "name": "stdout",
     "output_type": "stream",
     "text": [
      "COMMAND:\n",
      "python -m open_clip_train.main --train-data train.csv --val-data val.csv --csv-img-key filepath --csv-caption-key caption --csv-separator , --model ViT-B-32 --pretrained openai --report-to tensorboard --log-every-n-steps 50 --batch-size 32 --lr 1e-4 --epochs 10 --warmup 10000 --workers 4 --device cuda --aug-cfg scale=(0.4,1.0) ratio=(0.75,1.3333333333333333) color_jitter=(0.4,0.4,0.4,0.1) color_jitter_prob=0.8 re_prob=0.25 re_count=1 gray_scale_prob=0.2\n"
     ]
    }
   ],
   "source": [
    "aug_cfg_args = [\n",
    "    \"scale=(0.4,1.0)\",\n",
    "    \"ratio=(0.75,1.3333333333333333)\",\n",
    "    \"color_jitter=(0.4,0.4,0.4,0.1)\",\n",
    "    \"color_jitter_prob=0.8\",\n",
    "    \"re_prob=0.25\",\n",
    "    \"re_count=1\",\n",
    "    \"gray_scale_prob=0.2\"\n",
    "]\n",
    "\n",
    "\n",
    "\n",
    "cmd = [\n",
    "    \"python\", \"-m\", \"open_clip_train.main\",\n",
    "    \"--train-data\", \"train.csv\",\n",
    "    \"--val-data\", \"val.csv\",\n",
    "    \"--csv-img-key\", \"filepath\",\n",
    "    \"--csv-caption-key\", \"caption\",\n",
    "    \"--csv-separator\", \",\",\n",
    "    \"--model\", \"ViT-B-32\",\n",
    "    \"--pretrained\", \"openai\",\n",
    "    \"--report-to\", \"tensorboard\",\n",
    "    \"--log-every-n-steps\", \"50\",\n",
    "    \"--batch-size\", \"32\",\n",
    "    \"--lr\", \"1e-4\",\n",
    "    \"--epochs\", \"10\",\n",
    "    \"--warmup\", \"10000\",\n",
    "    \"--workers\", \"4\",\n",
    "    \"--device\", device,\n",
    "    \"--aug-cfg\"\n",
    "] + aug_cfg_args\n",
    "\n",
    "# Print the command for verification\n",
    "print(\"COMMAND:\")\n",
    "print(\" \".join(cmd))\n",
    "\n",
    "# Run it\n",
    "result = subprocess.run(cmd, capture_output=True, text=True)\n",
    "\n",
    "# Output logs\n",
    "print(\"STDOUT:\\n\", result.stdout)\n",
    "print(\"STDERR:\\n\", result.stderr)\n",
    "print(\"Exit code:\", result.returncode)"
   ]
  }
 ],
 "metadata": {
  "kernelspec": {
   "display_name": "clip-browser",
   "language": "python",
   "name": "python3"
  },
  "language_info": {
   "codemirror_mode": {
    "name": "ipython",
    "version": 3
   },
   "file_extension": ".py",
   "mimetype": "text/x-python",
   "name": "python",
   "nbconvert_exporter": "python",
   "pygments_lexer": "ipython3",
   "version": "3.11.13"
  }
 },
 "nbformat": 4,
 "nbformat_minor": 5
}
